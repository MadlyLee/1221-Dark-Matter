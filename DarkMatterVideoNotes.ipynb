{
  "nbformat": 4,
  "nbformat_minor": 0,
  "metadata": {
    "colab": {
      "provenance": [],
      "authorship_tag": "ABX9TyPftZwIhEn1X2O3XBNXBsR/",
      "include_colab_link": true
    },
    "kernelspec": {
      "name": "python3",
      "display_name": "Python 3"
    },
    "language_info": {
      "name": "python"
    }
  },
  "cells": [
    {
      "cell_type": "markdown",
      "metadata": {
        "id": "view-in-github",
        "colab_type": "text"
      },
      "source": [
        "<a href=\"https://colab.research.google.com/github/MadlyLee/1221-Dark-Matter/blob/main/DarkMatterVideoNotes.ipynb\" target=\"_parent\"><img src=\"https://colab.research.google.com/assets/colab-badge.svg\" alt=\"Open In Colab\"/></a>"
      ]
    },
    {
      "cell_type": "code",
      "execution_count": null,
      "metadata": {
        "id": "O9DamJ1h4jdZ"
      },
      "outputs": [],
      "source": []
    },
    {
      "cell_type": "markdown",
      "source": [
        "Presented by Damian Pope.\n",
        "\n",
        "1967, Vera Rubin finds the stars of the Andromeda galaxy move at similar, especially high speeds regardless of their distance from center.\n",
        "\n",
        "We use orbital speed of planets to calculate the size of the stars they orbit. Stars orbit the centers of their galaxies; we can use the Doppler Effect to determine the speed of these stars. The greater the shift in frequency, the faster the orbit. We can use this information, along with their brightness, to measure mass.\n",
        "\n",
        "How do we account for differences in our distance from different galaxies? We need to find each individual distance. Thankfullly, the brightness of a star correlates with their size. However, there's extra mass not emitting or reflecting light... as observed by Rubin when she discovered that these stars were all moving unusually fast.\n",
        "\n",
        "We call this unseen mass \"dark matter.\"\n",
        "\n",
        "What other evidence supports the theory of dark matter? Einstein's Theory of Relativity indicates that light can bend. We can measure the distortion of light to estimate the size of the mass effecting the light. There is evidence that dark matter exists both within and between galaxies.\n",
        "\n",
        "Our sun makes up over 99% of the mass in our solar system. Could they be planets? Unlikely all of it.\n",
        "\n",
        "What about brown dwarf stars? Black holes? We can use gravitational lensing to detect these. However, both of these fail toaccount for all of the dark matter in the universe.\n",
        "\n",
        "Either the theory of gravity is incorrect, or we are missing something large. We certainly need to modify gravity to apply to mass at this scale. Newton's laws apply best to our experience here on Earth.\n",
        "\n",
        "Circumstantial evidence for dark matter include a new subatomic particle (WIMPS) make up the bulk of dark matter (they don't interact with light). Axions could also account for dark matter, though they have so little mass. Regardless, many scientists believe dark matter makes up 90% of our galaxies.\n",
        "\n",
        "If dark matter is made of WIMPS, it should be here on Earth. The XENON Project is attempting to capture the vibrations of the dark matter particles. They are located deep underground where the cosmic ray signal is greatly reduced. They hope to detect WIMPS within a superheated liquids to see if it creates bubbles (evidence of energy from dark matter particles passing through the medium).\n",
        "\n",
        "\"The sky will not be the limit.\" - Vera Rubin\n",
        "\n"
      ],
      "metadata": {
        "id": "jy8_zJnt4oKY"
      }
    }
  ]
}