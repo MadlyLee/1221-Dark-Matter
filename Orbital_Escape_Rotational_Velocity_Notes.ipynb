{
  "nbformat": 4,
  "nbformat_minor": 0,
  "metadata": {
    "colab": {
      "provenance": [],
      "authorship_tag": "ABX9TyO/PX+osQnT3Z89cKMEu4ms",
      "include_colab_link": true
    },
    "kernelspec": {
      "name": "python3",
      "display_name": "Python 3"
    },
    "language_info": {
      "name": "python"
    }
  },
  "cells": [
    {
      "cell_type": "markdown",
      "metadata": {
        "id": "view-in-github",
        "colab_type": "text"
      },
      "source": [
        "<a href=\"https://colab.research.google.com/github/MadlyLee/1221-Dark-Matter/blob/main/Orbital_Escape_Rotational_Velocity_Notes.ipynb\" target=\"_parent\"><img src=\"https://colab.research.google.com/assets/colab-badge.svg\" alt=\"Open In Colab\"/></a>"
      ]
    },
    {
      "cell_type": "code",
      "execution_count": null,
      "metadata": {
        "id": "mIKGp2XqQiM_"
      },
      "outputs": [],
      "source": []
    },
    {
      "cell_type": "markdown",
      "source": [
        "Centrifugal force balances with gravity to keep star systems in tact.\n",
        "\n",
        "ORBITAL VELOCITY\n",
        "GM*m/r^2 = v^2m/r\n",
        "GM*r=v^2\n",
        "\n",
        "M* = Star Mass\n",
        "m = Planetary Mass\n",
        "G = gravitational constant\n",
        "r = Radius (distance from planet to star)\n",
        "\n",
        "Stars warp space time, which is why the Earth's trajectory is curved.\n",
        "\n",
        "1. Earth-Sun System\n",
        "2. Satellite-Earth System\n",
        "3. Black Hole-Photon System\n",
        "\n",
        "\n",
        "\n"
      ],
      "metadata": {
        "id": "JMlowQkjQsHS"
      }
    },
    {
      "cell_type": "code",
      "source": [
        "import numpy as np #import math\n",
        "import astropy.units as u #import astronomical units\n",
        "import astropy.constants as ac #import astronomical constants"
      ],
      "metadata": {
        "id": "yClQXEKZXQfO"
      },
      "execution_count": null,
      "outputs": []
    },
    {
      "cell_type": "markdown",
      "source": [
        "How to input a latex equation (kind of):\n",
        "\n",
        "$v_{orbital} = \\sqrt\\frac{GM_⊙}{r}\n",
        "$"
      ],
      "metadata": {
        "id": "5ZE9GminXnYQ"
      }
    },
    {
      "cell_type": "code",
      "source": [
        "ac.G.si #put G in scientific notation (EARTH / SUN SYSTEM)"
      ],
      "metadata": {
        "colab": {
          "base_uri": "https://localhost:8080/",
          "height": 42
        },
        "id": "pQDUTTDBX1JS",
        "outputId": "af684aed-67f6-4fbd-9a37-8aa8e64e4731"
      },
      "execution_count": null,
      "outputs": [
        {
          "output_type": "execute_result",
          "data": {
            "text/plain": [
              "<<class 'astropy.constants.codata2018.CODATA2018'> name='Gravitational constant' value=6.6743e-11 uncertainty=1.5e-15 unit='m3 / (kg s2)' reference='CODATA 2018'>"
            ],
            "text/latex": "$6.6743 \\times 10^{-11} \\; \\mathrm{\\frac{m^{3}}{kg\\,s^{2}}}$"
          },
          "metadata": {},
          "execution_count": 3
        }
      ]
    },
    {
      "cell_type": "code",
      "source": [
        "v_orbital = np.sqrt(ac.G * u.solMass / u.au) #The distance between the Earth and Sun is one au (\"astronomical unit\").\n",
        "print(v_orbital.si, v_orbital.to(u.km / u.s)) #display the orbital velocity in km/s"
      ],
      "metadata": {
        "colab": {
          "base_uri": "https://localhost:8080/"
        },
        "id": "GtsJxH_bYzJI",
        "outputId": "7eed66f9-72aa-4954-c91f-02c0fd3bb64f"
      },
      "execution_count": null,
      "outputs": [
        {
          "output_type": "stream",
          "name": "stdout",
          "text": [
            "29784.691829676933 m / s 29.784691829676934 km / s\n"
          ]
        }
      ]
    },
    {
      "cell_type": "markdown",
      "source": [
        "How to input a latex equation:\n",
        "\n",
        "$v_{orbital} = \\sqrt\\frac{GM_⊙}{r}\n",
        "$"
      ],
      "metadata": {
        "id": "ys49wLY0bVV1"
      }
    },
    {
      "cell_type": "code",
      "source": [
        "ac.GM_earth.si #put GM of the earth in scientific notation (EARTH / SATELLITE SYSTEM)"
      ],
      "metadata": {
        "colab": {
          "base_uri": "https://localhost:8080/",
          "height": 40
        },
        "id": "PsPZtvQmbdeN",
        "outputId": "a2236b94-7b12-441f-bcec-eea3e877c3ee"
      },
      "execution_count": null,
      "outputs": [
        {
          "output_type": "execute_result",
          "data": {
            "text/plain": [
              "<<class 'astropy.constants.iau2015.IAU2015'> name='Nominal Earth mass parameter' value=398600400000000.0 uncertainty=0.0 unit='m3 / s2' reference='IAU 2015 Resolution B 3'>"
            ],
            "text/latex": "$3.986004 \\times 10^{14} \\; \\mathrm{\\frac{m^{3}}{s^{2}}}$"
          },
          "metadata": {},
          "execution_count": 11
        }
      ]
    },
    {
      "cell_type": "code",
      "source": [
        "v_orbital_escape = np.sqrt(ac.G * u.earthMass / u.earthRad) #define equation for the velocity needed to escape Earth's gravity\n",
        "print(v_orbital_escape.si, v_orbital_escape.to(u.km / u.s))#display this escape velocity in km/s"
      ],
      "metadata": {
        "colab": {
          "base_uri": "https://localhost:8080/"
        },
        "id": "GjhlpieIbnQU",
        "outputId": "8324b4ab-e6c0-4315-af13-9933cb99738b"
      },
      "execution_count": null,
      "outputs": [
        {
          "output_type": "stream",
          "name": "stdout",
          "text": [
            "7905.388234385281 m / s 7.905388234385281 km / s\n"
          ]
        }
      ]
    },
    {
      "cell_type": "markdown",
      "source": [
        "Rearrange the equation above and solve for the radius of a solar-mass black hole: ${r} = \\frac\\{2GM_}{c^2}"
      ],
      "metadata": {
        "id": "0dSF2fjscjNw"
      }
    },
    {
      "cell_type": "code",
      "source": [
        "r_schwachild = ac.G * u.solMass / ac.c**2 #define Swatzchild radius of a black hole (BLACK HOLE / PHOTON SYSTEM)\n",
        "print(r_schwachild.to(u.km)) #display radius in km"
      ],
      "metadata": {
        "colab": {
          "base_uri": "https://localhost:8080/"
        },
        "id": "O_JRth6Kcgwu",
        "outputId": "fd2a4745-738e-4a91-c18f-147010ac14d2"
      },
      "execution_count": null,
      "outputs": [
        {
          "output_type": "stream",
          "name": "stdout",
          "text": [
            "1.476625038050125 km\n"
          ]
        }
      ]
    }
  ]
}