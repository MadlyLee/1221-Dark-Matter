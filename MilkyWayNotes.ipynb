{
  "nbformat": 4,
  "nbformat_minor": 0,
  "metadata": {
    "colab": {
      "provenance": [],
      "authorship_tag": "ABX9TyM4PloQ8Y1AgWaCIq51KLrC",
      "include_colab_link": true
    },
    "kernelspec": {
      "name": "python3",
      "display_name": "Python 3"
    },
    "language_info": {
      "name": "python"
    }
  },
  "cells": [
    {
      "cell_type": "markdown",
      "metadata": {
        "id": "view-in-github",
        "colab_type": "text"
      },
      "source": [
        "<a href=\"https://colab.research.google.com/github/MadlyLee/1221-Dark-Matter/blob/main/MilkyWayNotes.ipynb\" target=\"_parent\"><img src=\"https://colab.research.google.com/assets/colab-badge.svg\" alt=\"Open In Colab\"/></a>"
      ]
    },
    {
      "cell_type": "code",
      "execution_count": null,
      "metadata": {
        "id": "njMor42AkFHD"
      },
      "outputs": [],
      "source": []
    },
    {
      "cell_type": "markdown",
      "source": [
        "The Milky Way and a Sense of Distance\n",
        "\n",
        "Milky Way and M31 (Andromeda), our sister galaxy, are part of the same group.\n",
        "\n",
        "Largest to Smallest:\n",
        "Galaxy Cluster\n",
        "Andromeda\n",
        "Star Forming Region\n",
        "Globular Cluster\n",
        "Solar System\n",
        "The Sun\n",
        "Neutron Star\n",
        "\n",
        "Milky Way Galaxy\n",
        "\n",
        "  Above average size Spiral Galaxy\n",
        "  Approx. 400 billion stars\n",
        "  Galaxy Components:\n",
        "    Bulge\n",
        "    Disk w/ Spiral Arms\n",
        "    Halo (Dark Matter)\n",
        "      10x more massive than all the stars together\n",
        "  We see a flat line of stars because we are within the disk. This makes it difficult to make calculations.\n",
        "  \n",
        "  Where are we in the disk?\n",
        "    Globular clusters (1000s of stars that were all born from the same cloud at the same time) are distributed uniformly around the Milky Way\n",
        "    The center of this distribution is located at the galactic center\n",
        "      The closest globular cluster to us is 4.1 lightyears away.\n",
        "  In 1917, Harlow Shapley plotted the distribution of globular clusters in the Milky Way in an ffort to learn our location within the Galaxy.\n",
        "  The center (maximum) of the distribution of globular cluster shows us where th cnter of the galaxy is (80 kiloparsecs ) (1 parsec = 3.2 lightyears; uysed because it is defined by the angle - paralex measurement)\n",
        "    1 au/1 pc = 1\"\n",
        "  \n",
        "  Non-visible light allow us to observe the center of the galaxy (.g. radio, atomic hydrogen, molcular hydrogen, infrared, near infrared, optical, x-ray, gamma ray)\n",
        "\n",
        "Solar System Rotation Curve:\n",
        "\n",
        "  v = sqrt(MG/r); 99.999% of our mass is the sun, so we can safetly just use this mass to estimate the mass of our solar system.\n",
        "\n",
        "  This is not the case for galaxies. Astronomrs attribute this difference to dark matter.  \n",
        "    If we wanted to make a rotational curve, what would we intuitively consider?\n",
        "      Central black hole mass: about 10^6 solar masses\n",
        "      Galactic bulge: radius is about 4kpc; the mass is 3x10^10 solar masses\n",
        "        Velocity of bulge = sqrt(GM/r)\n",
        "      Disk: radius is 15kpc; mass is 8 x 10^10 solar masses\n",
        "        Density of the disk = 8x 10^10 solar masses/pi*15kpc^2\n",
        "        Velocity of disk = sqrt(GMdish/5 kpc)\n",
        "      Halo: 10x disc mass = 8 x 10^11 solar masses\n",
        "        Density of halo = 3 x 10^6 solar mass / kps^3\n",
        "        Velocity of halo = density x 4/3pi*r^3\n",
        "\n",
        "    \n",
        "\n"
      ],
      "metadata": {
        "id": "kbHq-_rOkZRN"
      }
    }
  ]
}